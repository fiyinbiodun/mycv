{
  "nbformat": 4,
  "nbformat_minor": 0,
  "metadata": {
    "colab": {
      "provenance": [],
      "authorship_tag": "ABX9TyPuI+t/QfDnOAuoA5PrlVyY",
      "include_colab_link": true
    },
    "kernelspec": {
      "name": "python3",
      "display_name": "Python 3"
    },
    "language_info": {
      "name": "python"
    }
  },
  "cells": [
    {
      "cell_type": "markdown",
      "metadata": {
        "id": "view-in-github",
        "colab_type": "text"
      },
      "source": [
        "<a href=\"https://colab.research.google.com/github/fiyinbiodun/mycv/blob/main/Assignment1Moshood.ipynb\" target=\"_parent\"><img src=\"https://colab.research.google.com/assets/colab-badge.svg\" alt=\"Open In Colab\"/></a>"
      ]
    },
    {
      "cell_type": "code",
      "execution_count": null,
      "metadata": {
        "id": "QSIOazpDQu04"
      },
      "outputs": [],
      "source": []
    },
    {
      "cell_type": "markdown",
      "source": [
        "#Write a program to add two numbers and print the result\n"
      ],
      "metadata": {
        "id": "0t7cM3A4RM9A"
      }
    },
    {
      "cell_type": "code",
      "source": [
        "a = 4\n",
        "b = 7\n",
        "print(a+b)"
      ],
      "metadata": {
        "colab": {
          "base_uri": "https://localhost:8080/"
        },
        "id": "MgmsOVquRTMq",
        "outputId": "0018347b-dd93-4c13-8d81-cd8af836311b"
      },
      "execution_count": 1,
      "outputs": [
        {
          "output_type": "stream",
          "name": "stdout",
          "text": [
            "11\n"
          ]
        }
      ]
    },
    {
      "cell_type": "code",
      "source": [],
      "metadata": {
        "id": "_0jPfDdzRr1G"
      },
      "execution_count": null,
      "outputs": []
    },
    {
      "cell_type": "markdown",
      "source": [
        "Create a program that subtracts one number from another and displays the answer. The order in which the numbers are subtracted id not necessary to be maintained. Please use an absolute function.\n"
      ],
      "metadata": {
        "id": "Aj6P0aKpRwtl"
      }
    },
    {
      "cell_type": "code",
      "source": [
        "print(b-a)"
      ],
      "metadata": {
        "colab": {
          "base_uri": "https://localhost:8080/"
        },
        "id": "IvfF7Ii3SC40",
        "outputId": "c960c418-04c5-4816-cbb0-9754014a2a41"
      },
      "execution_count": 2,
      "outputs": [
        {
          "output_type": "stream",
          "name": "stdout",
          "text": [
            "3\n"
          ]
        }
      ]
    },
    {
      "cell_type": "markdown",
      "source": [
        "Write code to multiply two numbers and show the result."
      ],
      "metadata": {
        "id": "nhH1ncdaTAK5"
      }
    },
    {
      "cell_type": "code",
      "source": [
        "print(a*b)"
      ],
      "metadata": {
        "colab": {
          "base_uri": "https://localhost:8080/"
        },
        "id": "mMixy4NmTK-g",
        "outputId": "bea6cae0-891a-4e0c-d68a-2428650f8b0a"
      },
      "execution_count": 3,
      "outputs": [
        {
          "output_type": "stream",
          "name": "stdout",
          "text": [
            "28\n"
          ]
        }
      ]
    },
    {
      "cell_type": "markdown",
      "source": [
        "Create a program that divides one number by another and prints the quotient"
      ],
      "metadata": {
        "id": "OJPLFwxoTnaZ"
      }
    },
    {
      "cell_type": "code",
      "source": [
        "print(a//b)\n",
        "print(a%b)"
      ],
      "metadata": {
        "colab": {
          "base_uri": "https://localhost:8080/"
        },
        "id": "OJVGgucfUAMh",
        "outputId": "4a6aa496-5efd-438f-aa13-caccde1fc79d"
      },
      "execution_count": 4,
      "outputs": [
        {
          "output_type": "stream",
          "name": "stdout",
          "text": [
            "0\n",
            "4\n"
          ]
        }
      ]
    },
    {
      "cell_type": "markdown",
      "source": [
        "Calculate and print the area of a rectangle. The length and width will be 120 and 150 respectively\n"
      ],
      "metadata": {
        "id": "5nmTc844UN_c"
      }
    },
    {
      "cell_type": "code",
      "source": [
        "#area of a rectangle\n",
        "l = 120\n",
        "w = 150\n",
        "area = l*w\n",
        "print(area)"
      ],
      "metadata": {
        "colab": {
          "base_uri": "https://localhost:8080/"
        },
        "id": "HVch2FACUVzk",
        "outputId": "444b0d12-f7bb-4f5a-8b0d-665d0ccf39f5"
      },
      "execution_count": 6,
      "outputs": [
        {
          "output_type": "stream",
          "name": "stdout",
          "text": [
            "18000\n"
          ]
        }
      ]
    },
    {
      "cell_type": "markdown",
      "source": [
        "Calculate and display the circumference of a circle. Ask for the radius as input"
      ],
      "metadata": {
        "id": "SyEX-b2kWizu"
      }
    },
    {
      "cell_type": "code",
      "source": [
        "print(\"Enter r of the circle\")\n",
        "r = float(input())\n",
        "pi = 3.14\n",
        "circumference = 2 * pi * r\n",
        "print(\"The circle of circumference is\", circumference)\n"
      ],
      "metadata": {
        "colab": {
          "base_uri": "https://localhost:8080/"
        },
        "id": "PhNPJ7IaWrfA",
        "outputId": "df5cde65-b091-430c-916e-26c1436e33ce"
      },
      "execution_count": 27,
      "outputs": [
        {
          "output_type": "stream",
          "name": "stdout",
          "text": [
            "Enter r of the circle\n",
            "4\n",
            "The circle of circumference is 25.12\n"
          ]
        }
      ]
    },
    {
      "cell_type": "markdown",
      "source": [
        "Create a program that calculates the square root of a number and prints it\n"
      ],
      "metadata": {
        "id": "TsvtZOChaHmZ"
      }
    },
    {
      "cell_type": "code",
      "source": [
        "\n",
        "from math import *\n",
        "x = int(input(\"Enter a number to get the sqaure root is \"))\n",
        "math.sqrt(x)\n",
        "result = math.sqrt(x)\n",
        "print(\"The square root of the number entered is\", result)\n",
        "\n"
      ],
      "metadata": {
        "colab": {
          "base_uri": "https://localhost:8080/"
        },
        "id": "iM3QrMmSaMeq",
        "outputId": "454e7064-0c7d-4996-9e20-a92ba43a576b"
      },
      "execution_count": 43,
      "outputs": [
        {
          "output_type": "stream",
          "name": "stdout",
          "text": [
            "Enter a number to get the sqaure root is 16\n",
            "The square root of the number entered is 4.0\n"
          ]
        }
      ]
    },
    {
      "cell_type": "markdown",
      "source": [
        "•Write code to swap the values of two variables. For example, if `a` holds 5 and `b` holds 10, after swapping, `a` should hold 10 and `b`\n",
        "should hold 5\n"
      ],
      "metadata": {
        "id": "ngDUJ7nLdaBG"
      }
    },
    {
      "cell_type": "code",
      "source": [
        "\n",
        "X = 5\n",
        "Y = 10\n",
        "X, Y = Y, X\n",
        "print(\"X =\", X)\n",
        "print(\"Y =\", Y)"
      ],
      "metadata": {
        "colab": {
          "base_uri": "https://localhost:8080/"
        },
        "id": "VuyBd0TJdiLh",
        "outputId": "6ae50b1b-43e7-4d0a-c989-fff92d746396"
      },
      "execution_count": 46,
      "outputs": [
        {
          "output_type": "stream",
          "name": "stdout",
          "text": [
            "X = 10\n",
            "Y = 5\n"
          ]
        }
      ]
    },
    {
      "cell_type": "markdown",
      "source": [
        "Write a program to calculate simple interest. Ask the user for principal amount, interest rate, and time, and display the interest earned"
      ],
      "metadata": {
        "id": "Y5aH0WIHfLyR"
      }
    },
    {
      "cell_type": "code",
      "source": [
        "#calculate the simple interest(p,t,r)\n",
        "P= int(input(\"Enter the principal amount \"))\n",
        "T= int(input(\"Enter time period \"))\n",
        "I= float(input(\"Enter the interest rate \"))\n",
        "si = (P*T*I)/100\n",
        "print(\"The simple interest is \", si)\n"
      ],
      "metadata": {
        "colab": {
          "base_uri": "https://localhost:8080/"
        },
        "id": "0Z7I7-fthUBK",
        "outputId": "330236bd-e8e3-4e45-fdaf-51bed7774436"
      },
      "execution_count": 58,
      "outputs": [
        {
          "output_type": "stream",
          "name": "stdout",
          "text": [
            "Enter the principal amount 500\n",
            "Enter time period 12\n",
            "Enter the interest rate 1.5\n",
            "The simple interest is  90.0\n"
          ]
        }
      ]
    },
    {
      "cell_type": "markdown",
      "source": [
        "•Create a program that calculates and prints the result of raising a number to a specific power. For example, what is 2 to the power of 3?\n"
      ],
      "metadata": {
        "id": "Vd1m8IX9k0ip"
      }
    },
    {
      "cell_type": "code",
      "source": [
        "base = 2\n",
        "exponent = 3\n",
        "x= base ** exponent\n",
        "print(x)"
      ],
      "metadata": {
        "colab": {
          "base_uri": "https://localhost:8080/"
        },
        "id": "2YFO0h3wk6T7",
        "outputId": "78ebbd8a-3c56-49f1-a92c-fa38b3d33229"
      },
      "execution_count": 66,
      "outputs": [
        {
          "output_type": "stream",
          "name": "stdout",
          "text": [
            "8\n"
          ]
        }
      ]
    },
    {
      "cell_type": "markdown",
      "source": [
        "Calculate and print the square root of 16 using the `math.sqrt()` function\n"
      ],
      "metadata": {
        "id": "yfCbundHlBas"
      }
    },
    {
      "cell_type": "code",
      "source": [
        "import math\n",
        "\n",
        "print(math.sqrt(16))"
      ],
      "metadata": {
        "colab": {
          "base_uri": "https://localhost:8080/"
        },
        "id": "SaOiCMNQlDIx",
        "outputId": "6fc90969-917f-4410-d602-2b6b51cb638e"
      },
      "execution_count": 11,
      "outputs": [
        {
          "output_type": "stream",
          "name": "stdout",
          "text": [
            "4.0\n"
          ]
        }
      ]
    },
    {
      "cell_type": "markdown",
      "source": [
        "Calculate and display the tangent of 45 degrees using the `math.tan()` function\n"
      ],
      "metadata": {
        "id": "Vbc6OhQBoFJS"
      }
    },
    {
      "cell_type": "code",
      "source": [
        "math.tan(45)"
      ],
      "metadata": {
        "colab": {
          "base_uri": "https://localhost:8080/"
        },
        "id": "9jbGSsU3oKVS",
        "outputId": "9aa85b86-e631-40d3-bf03-05b0bc49a218"
      },
      "execution_count": 12,
      "outputs": [
        {
          "output_type": "execute_result",
          "data": {
            "text/plain": [
              "1.6197751905438615"
            ]
          },
          "metadata": {},
          "execution_count": 12
        }
      ]
    },
    {
      "cell_type": "markdown",
      "source": [
        "Calculate and print e (Euler's number) raised to the power of 2 using the`math.exp()` function"
      ],
      "metadata": {
        "id": "ej65Hq2PopzR"
      }
    },
    {
      "cell_type": "code",
      "source": [
        "math.exp(2)"
      ],
      "metadata": {
        "colab": {
          "base_uri": "https://localhost:8080/"
        },
        "id": "h9sbHDrWowFR",
        "outputId": "e2d063cd-4459-4cd7-f669-92661f50f58a"
      },
      "execution_count": 14,
      "outputs": [
        {
          "output_type": "execute_result",
          "data": {
            "text/plain": [
              "7.38905609893065"
            ]
          },
          "metadata": {},
          "execution_count": 14
        }
      ]
    },
    {
      "cell_type": "markdown",
      "source": [
        "Calculate and print the floor and ceiling values of 7.8 using the `math.floor()` and math.ceil() functions"
      ],
      "metadata": {
        "id": "SvDu5TQcpcXq"
      }
    },
    {
      "cell_type": "code",
      "source": [
        "math.floor(7.8)\n"
      ],
      "metadata": {
        "colab": {
          "base_uri": "https://localhost:8080/"
        },
        "id": "Z_iWV5uJpksN",
        "outputId": "f7dfb0a6-bd66-49ed-c5e6-cdad1069cfe7"
      },
      "execution_count": 17,
      "outputs": [
        {
          "output_type": "execute_result",
          "data": {
            "text/plain": [
              "7"
            ]
          },
          "metadata": {},
          "execution_count": 17
        }
      ]
    },
    {
      "cell_type": "markdown",
      "source": [
        "Calculate and print the floor and ceiling values of 7.8 using the math.floor() and math.ceil() functions"
      ],
      "metadata": {
        "id": "k4sI90Hep-jh"
      }
    },
    {
      "cell_type": "code",
      "source": [
        "math.ceil(7.8)"
      ],
      "metadata": {
        "colab": {
          "base_uri": "https://localhost:8080/"
        },
        "id": "VjROfkF4qACV",
        "outputId": "0462780f-7201-411d-901b-884da00c7d15"
      },
      "execution_count": 18,
      "outputs": [
        {
          "output_type": "execute_result",
          "data": {
            "text/plain": [
              "8"
            ]
          },
          "metadata": {},
          "execution_count": 18
        }
      ]
    },
    {
      "cell_type": "markdown",
      "source": [
        "Implement a Python function that calculates the factorial of 5 using the`math.factorial()` function and returns the result."
      ],
      "metadata": {
        "id": "_rhY1SqgqORL"
      }
    },
    {
      "cell_type": "code",
      "source": [
        "import math\n",
        "y= 5\n",
        "print(\"factorial of the number 5 is \")\n",
        "print(math.factorial(y))"
      ],
      "metadata": {
        "colab": {
          "base_uri": "https://localhost:8080/"
        },
        "id": "DvL0avpiL4SO",
        "outputId": "96348730-00ac-4333-d250-d4926e168aeb"
      },
      "execution_count": 16,
      "outputs": [
        {
          "output_type": "stream",
          "name": "stdout",
          "text": [
            "factorial of the number 5 is \n",
            "120\n"
          ]
        }
      ]
    },
    {
      "cell_type": "markdown",
      "source": [
        "Calculate and display the natural logarithm (base e) of 10 using the `math.log()function."
      ],
      "metadata": {
        "id": "y6Q2EtcJOFQy"
      }
    },
    {
      "cell_type": "code",
      "source": [
        "import math\n",
        "print(\"Natural log of 10 is \")\n",
        "print(math.log(10))"
      ],
      "metadata": {
        "colab": {
          "base_uri": "https://localhost:8080/"
        },
        "id": "BxutlTxAOIUk",
        "outputId": "bbc61ffb-30b3-42f4-a712-6466230e38f9"
      },
      "execution_count": 24,
      "outputs": [
        {
          "output_type": "stream",
          "name": "stdout",
          "text": [
            "Natural log of 10 is \n",
            "2.302585092994046\n"
          ]
        }
      ]
    },
    {
      "cell_type": "markdown",
      "source": [
        "Calculate an approximation of π (pi) using the `math.pi` constant and print the result\n"
      ],
      "metadata": {
        "id": "0SS6ARBfPECL"
      }
    },
    {
      "cell_type": "code",
      "source": [
        "print(math.pi)"
      ],
      "metadata": {
        "colab": {
          "base_uri": "https://localhost:8080/"
        },
        "id": "_zs94f7wPesF",
        "outputId": "432e2392-2c8d-4281-a030-cf530b1916b8"
      },
      "execution_count": 25,
      "outputs": [
        {
          "output_type": "stream",
          "name": "stdout",
          "text": [
            "3.141592653589793\n"
          ]
        }
      ]
    },
    {
      "cell_type": "markdown",
      "source": [
        "Convert 1 radian to degrees using the `math.degrees()` function and print the result."
      ],
      "metadata": {
        "id": "1YsLEZqCPnCu"
      }
    },
    {
      "cell_type": "code",
      "source": [
        "print(math.degrees(1))"
      ],
      "metadata": {
        "colab": {
          "base_uri": "https://localhost:8080/"
        },
        "id": "vDTlRnUaPs9P",
        "outputId": "3420f087-eb5f-4ede-b4ff-abdb1dbf4423"
      },
      "execution_count": 26,
      "outputs": [
        {
          "output_type": "stream",
          "name": "stdout",
          "text": [
            "57.29577951308232\n"
          ]
        }
      ]
    },
    {
      "cell_type": "markdown",
      "source": [
        "Calculate and print the length of the hypotenuse of a right triangle with sides of length 3 and 4 using the `math.hypot()` function"
      ],
      "metadata": {
        "id": "HhRxMx5PQW-d"
      }
    },
    {
      "cell_type": "code",
      "source": [
        "#the lenght of the hypotenuse of a right angle\n",
        "a = 3\n",
        "b= 4\n",
        "print(\"The hypotenuse of right angle is\", math.hypot(a, b))\n"
      ],
      "metadata": {
        "colab": {
          "base_uri": "https://localhost:8080/"
        },
        "id": "qx87RnZ2QjBY",
        "outputId": "3d4466f3-000f-40ee-eddf-0dd35b7cf908"
      },
      "execution_count": 28,
      "outputs": [
        {
          "output_type": "stream",
          "name": "stdout",
          "text": [
            "The hypotenuse of right angle is 5.0\n"
          ]
        }
      ]
    },
    {
      "cell_type": "markdown",
      "source": [
        "Implement a function that calculates and returns the greatest common divisor of 36 and 48 using the `math.gcd()` function"
      ],
      "metadata": {
        "id": "Y_vSt5ehR4Cv"
      }
    },
    {
      "cell_type": "code",
      "source": [
        "#the gcd of divisor\n",
        "x = 36\n",
        "y = 48\n",
        "print(\"The GCD of 36 and 48 is \", math.gcd(x,y))"
      ],
      "metadata": {
        "colab": {
          "base_uri": "https://localhost:8080/"
        },
        "id": "_ZyqjFYdSAXK",
        "outputId": "81094b54-9c9d-47b7-9580-1598d4677f5f"
      },
      "execution_count": 32,
      "outputs": [
        {
          "output_type": "stream",
          "name": "stdout",
          "text": [
            "The GCD of 36 and 48 is  12\n"
          ]
        }
      ]
    },
    {
      "cell_type": "markdown",
      "source": [
        "Calculate and print 2 raised to the power of 8 using the `math.pow()` function"
      ],
      "metadata": {
        "id": "b_LhHtW_Sv_d"
      }
    },
    {
      "cell_type": "code",
      "source": [
        "print(math.pow(2, 8))"
      ],
      "metadata": {
        "colab": {
          "base_uri": "https://localhost:8080/"
        },
        "id": "CqoyEwxXS1LN",
        "outputId": "b6d854a2-7011-4a65-9609-7643aa3ba814"
      },
      "execution_count": 34,
      "outputs": [
        {
          "output_type": "stream",
          "name": "stdout",
          "text": [
            "256.0\n"
          ]
        }
      ]
    },
    {
      "cell_type": "markdown",
      "source": [
        "Calculate and display the sine of π/4 radians using the `math.sin()` function"
      ],
      "metadata": {
        "id": "RBVJwS07TlqL"
      }
    },
    {
      "cell_type": "code",
      "source": [
        "print(math.sin(45))"
      ],
      "metadata": {
        "colab": {
          "base_uri": "https://localhost:8080/"
        },
        "id": "md49zwQgTnRN",
        "outputId": "20bd74b8-f83e-4c51-df12-990d4e19673d"
      },
      "execution_count": 35,
      "outputs": [
        {
          "output_type": "stream",
          "name": "stdout",
          "text": [
            "0.8509035245341184\n"
          ]
        }
      ]
    },
    {
      "cell_type": "markdown",
      "source": [
        "Write a program that calculates and prints the base-2 logarithm of 64 using the `math.log()function"
      ],
      "metadata": {
        "id": "tp4yfT0jVxt7"
      }
    },
    {
      "cell_type": "code",
      "source": [
        "print(math.log2(64))"
      ],
      "metadata": {
        "colab": {
          "base_uri": "https://localhost:8080/"
        },
        "id": "NM7_rN_lV0BI",
        "outputId": "209dbcc7-a2f7-4822-a95a-e3899405fee6"
      },
      "execution_count": 36,
      "outputs": [
        {
          "output_type": "stream",
          "name": "stdout",
          "text": [
            "6.0\n"
          ]
        }
      ]
    },
    {
      "cell_type": "markdown",
      "source": [
        "Calculate and print the smallest integer greater than or equal to π (pi) using the `math.ceil()`function"
      ],
      "metadata": {
        "id": "11zW5uCLWhn-"
      }
    },
    {
      "cell_type": "code",
      "source": [
        "print(math.ceil())"
      ],
      "metadata": {
        "id": "IwXnpoOEWnIC"
      },
      "execution_count": 38,
      "outputs": []
    },
    {
      "cell_type": "markdown",
      "source": [
        "Round the number 4.56789 to three decimal places using the `round()` function"
      ],
      "metadata": {
        "id": "mGe4AhQlX7rM"
      }
    },
    {
      "cell_type": "code",
      "source": [
        "print(round (4.56789))"
      ],
      "metadata": {
        "colab": {
          "base_uri": "https://localhost:8080/"
        },
        "id": "4N0Di0J_YFIQ",
        "outputId": "6ea12292-4724-4e65-a8a7-deec68d6cf5d"
      },
      "execution_count": 41,
      "outputs": [
        {
          "output_type": "stream",
          "name": "stdout",
          "text": [
            "5\n"
          ]
        }
      ]
    },
    {
      "cell_type": "markdown",
      "source": [
        "Calculate and display the square of -5 using the `math.pow()` function"
      ],
      "metadata": {
        "id": "ICZvv-HxYhiO"
      }
    },
    {
      "cell_type": "code",
      "source": [
        "\n",
        "print(math.pow(-5, 2))"
      ],
      "metadata": {
        "colab": {
          "base_uri": "https://localhost:8080/"
        },
        "id": "7MQ2wMv2Yizi",
        "outputId": "09bd05d3-de33-4587-8286-56aae6a1f71a"
      },
      "execution_count": 44,
      "outputs": [
        {
          "output_type": "stream",
          "name": "stdout",
          "text": [
            "25.0\n"
          ]
        }
      ]
    },
    {
      "cell_type": "markdown",
      "source": [
        "Calculate and print the cubic root of 27 using the `math.pow()` function"
      ],
      "metadata": {
        "id": "rfTNygEwZrEe"
      }
    },
    {
      "cell_type": "code",
      "source": [
        "x = 27\n",
        "CR = 1/3\n",
        "print(math.pow(x, CR))"
      ],
      "metadata": {
        "colab": {
          "base_uri": "https://localhost:8080/"
        },
        "id": "4mi1nGFoZrxS",
        "outputId": "87d6d5df-d889-4e21-92f6-5818d25b36e7"
      },
      "execution_count": 47,
      "outputs": [
        {
          "output_type": "stream",
          "name": "stdout",
          "text": [
            "3.0\n"
          ]
        }
      ]
    },
    {
      "cell_type": "markdown",
      "source": [
        "Calculate and display the natural logarithm (base e) of 20 using the `math.log()` function"
      ],
      "metadata": {
        "id": "Dvu2mK8Ja1IG"
      }
    },
    {
      "cell_type": "code",
      "source": [
        "print(math.log(20))"
      ],
      "metadata": {
        "colab": {
          "base_uri": "https://localhost:8080/"
        },
        "id": "oGmVWqY3a5bZ",
        "outputId": "88c2669b-0fc7-4242-8255-5b6171fe44ad"
      },
      "execution_count": 48,
      "outputs": [
        {
          "output_type": "stream",
          "name": "stdout",
          "text": [
            "2.995732273553991\n"
          ]
        }
      ]
    },
    {
      "cell_type": "markdown",
      "source": [
        "Calculate and display the arctangent of 1 using the `math.atan()` function"
      ],
      "metadata": {
        "id": "-d4wnN5dbPeW"
      }
    },
    {
      "cell_type": "code",
      "source": [
        "print(math.atan(1))"
      ],
      "metadata": {
        "colab": {
          "base_uri": "https://localhost:8080/"
        },
        "id": "AlY8bTobbTDe",
        "outputId": "686627f5-d83b-466c-fd70-4679b960fd16"
      },
      "execution_count": 49,
      "outputs": [
        {
          "output_type": "stream",
          "name": "stdout",
          "text": [
            "0.7853981633974483\n"
          ]
        }
      ]
    },
    {
      "cell_type": "markdown",
      "source": [
        "Write a Python program that takes a number as input and uses the `math.sqrt()` function to calculate and display its square root"
      ],
      "metadata": {
        "id": "FRMKO0Clbjk7"
      }
    },
    {
      "cell_type": "code",
      "source": [
        "import math\n",
        "a = int(input(\"Enter a number \"))\n",
        "result = math.sqrt(a)\n",
        "print(\"The result is \", result)\n"
      ],
      "metadata": {
        "colab": {
          "base_uri": "https://localhost:8080/"
        },
        "id": "Oz5_gqwVblph",
        "outputId": "5e875478-99bc-486f-a2dd-fd387e142f71"
      },
      "execution_count": 71,
      "outputs": [
        {
          "output_type": "stream",
          "name": "stdout",
          "text": [
            "Enter a number 25\n",
            "The result is  5.0\n"
          ]
        }
      ]
    },
    {
      "cell_type": "markdown",
      "source": [
        "Create a program that asks the user for an angle in degrees and then calculates and prints the sine and cosine of that angle using the `math.sin()` and `math.cos()` functions"
      ],
      "metadata": {
        "id": "gOut5Cs4gHNb"
      }
    },
    {
      "cell_type": "code",
      "source": [
        "x = int(input(\"Please enter the degrees of the angle for X is \"))\n",
        "y= int(input(\"Please enter the degrees of the angle for Y is \"))\n",
        "resultX = math.sin(x)\n",
        "resultY = math.cos(y)\n",
        "print(\"The result for x and y are \", resultX, resultY)\n"
      ],
      "metadata": {
        "colab": {
          "base_uri": "https://localhost:8080/"
        },
        "id": "0HPOtxsNgLyZ",
        "outputId": "a0c9be04-238f-4822-9748-f0dd9a0fa4b5"
      },
      "execution_count": 73,
      "outputs": [
        {
          "output_type": "stream",
          "name": "stdout",
          "text": [
            "Please enter the degrees of the angle for X is 60\n",
            "Please enter the degrees of the angle for Y is 90\n",
            "The result for x and y are  -0.3048106211022167 -0.4480736161291701\n"
          ]
        }
      ]
    },
    {
      "cell_type": "code",
      "source": [],
      "metadata": {
        "id": "QpXh3Xmqj32D"
      },
      "execution_count": null,
      "outputs": []
    },
    {
      "cell_type": "markdown",
      "source": [
        "Write a Python function that calculates and returns the value of e (Euler's number) raised to a given power using the `math.exp()` function"
      ],
      "metadata": {
        "id": "jVclT3o0iGSC"
      }
    },
    {
      "cell_type": "code",
      "source": [
        "import math\n",
        "print(math.exp(1))\n",
        "print(math.exp(2))\n",
        "print(math.exp(5))"
      ],
      "metadata": {
        "colab": {
          "base_uri": "https://localhost:8080/"
        },
        "id": "BKUuKP1Xj6g9",
        "outputId": "3a7a7443-28e6-465e-c61a-f3a77167894f"
      },
      "execution_count": 4,
      "outputs": [
        {
          "output_type": "stream",
          "name": "stdout",
          "text": [
            "2.718281828459045\n",
            "7.38905609893065\n",
            "148.4131591025766\n"
          ]
        }
      ]
    },
    {
      "cell_type": "markdown",
      "source": [
        "Ask the user for a decimal number and use the `math.floor()` and `math.ceil()` functions to round it down and up to the nearest integer, respectively. Display both results"
      ],
      "metadata": {
        "id": "9h05lOdDBAKK"
      }
    },
    {
      "cell_type": "code",
      "source": [
        "import math\n",
        "b = float(input(\"Enter a decimal nummber 1 is  \"))\n",
        "c = float(input(\"Enter a decimal nummber 2 is \"))\n",
        "result1 = math.floor(b)\n",
        "result2 = math.ceil(c)\n",
        "print(round, result1)\n",
        "print(round, result2)\n",
        "\n"
      ],
      "metadata": {
        "colab": {
          "base_uri": "https://localhost:8080/"
        },
        "id": "bswOpJIeBD6H",
        "outputId": "ae517994-2f51-41f0-82ce-7473f109838f"
      },
      "execution_count": 14,
      "outputs": [
        {
          "output_type": "stream",
          "name": "stdout",
          "text": [
            "Enter a decimal nummber 1 is  3.777\n",
            "Enter a decimal nummber 2 is 5.8888\n",
            "<built-in function round> 3\n",
            "<built-in function round> 6\n"
          ]
        }
      ]
    },
    {
      "cell_type": "markdown",
      "source": [
        "Implement a function to calculate the factorial of a number using the `math.factorial()` function. Print the result"
      ],
      "metadata": {
        "id": "9OATF9f0EC4Z"
      }
    },
    {
      "cell_type": "code",
      "source": [
        "y = int(input(\"Please enter a number \"))\n",
        "result = math.factorial(y)\n",
        "print(\"the factorial number is \", result)"
      ],
      "metadata": {
        "colab": {
          "base_uri": "https://localhost:8080/"
        },
        "id": "qmjbwQV4ELNn",
        "outputId": "db9a435b-37a2-45ba-af64-00621e6f101d"
      },
      "execution_count": 17,
      "outputs": [
        {
          "output_type": "stream",
          "name": "stdout",
          "text": [
            "Please enter a number 4\n",
            "the factorial number is  24\n"
          ]
        }
      ]
    },
    {
      "cell_type": "markdown",
      "source": [
        "Create a program that asks the user for a positive number and calculates and displays both its natural logarithm (base e)\n",
        "and base 10 logarithm using the `math.log()` function"
      ],
      "metadata": {
        "id": "ARfflnvpE_NW"
      }
    },
    {
      "cell_type": "code",
      "source": [
        "y = int(input(\"pls enter a positive number \"))\n",
        "print(\"natural logarithm (base e) = \", math.log(y))\n",
        "print(\"natural logarithm (base 10) = \", math.log10(y))\n"
      ],
      "metadata": {
        "colab": {
          "base_uri": "https://localhost:8080/"
        },
        "id": "SzSJIPXPFJx-",
        "outputId": "0f418e45-fc5e-4e43-ceb8-efec3fee8ffd"
      },
      "execution_count": 22,
      "outputs": [
        {
          "output_type": "stream",
          "name": "stdout",
          "text": [
            "pls enter a positive number 5\n",
            "natural logarithm (base e) =  1.6094379124341003\n",
            "natural logarithm (base 10) =  0.6989700043360189\n"
          ]
        }
      ]
    },
    {
      "cell_type": "markdown",
      "source": [
        "Write a Python program that calculates an approximation of π (pi) using the `math.pi` constant and displays the resul"
      ],
      "metadata": {
        "id": "F9VmvaamGh7q"
      }
    },
    {
      "cell_type": "code",
      "source": [
        "print(math.pi)"
      ],
      "metadata": {
        "colab": {
          "base_uri": "https://localhost:8080/"
        },
        "id": "A978gkgEGruQ",
        "outputId": "0538ac55-1800-4188-e0af-476449ab6531"
      },
      "execution_count": 23,
      "outputs": [
        {
          "output_type": "stream",
          "name": "stdout",
          "text": [
            "3.141592653589793\n"
          ]
        }
      ]
    },
    {
      "cell_type": "markdown",
      "source": [
        "Ask the user for an angle in radians and use the `math.degrees()` function to convert it to degrees. Print the result"
      ],
      "metadata": {
        "id": "Vh0ZhjPKHWgC"
      }
    },
    {
      "cell_type": "code",
      "source": [
        "x = float(input(\"Enter Angle in radian is \"))\n",
        "result = math.degrees(x)\n",
        "print(result)"
      ],
      "metadata": {
        "colab": {
          "base_uri": "https://localhost:8080/"
        },
        "id": "yEfrqNfTHedw",
        "outputId": "4d7ffecf-56ef-462e-857e-32864bc7b794"
      },
      "execution_count": 26,
      "outputs": [
        {
          "output_type": "stream",
          "name": "stdout",
          "text": [
            "Enter Angle in radian1\n",
            "57.29577951308232\n"
          ]
        }
      ]
    },
    {
      "cell_type": "markdown",
      "source": [
        "Create a program that takes the lengths of the two shorter sides of a right triangle as input and uses the `math.hypot()function to calculate and display the length of the hypotenuse"
      ],
      "metadata": {
        "id": "9J8SEwMDJBlE"
      }
    },
    {
      "cell_type": "code",
      "source": [
        "m = int(input(\"enter 1st number \"))\n",
        "n = int(input(\"enter the 2nd number \"))\n",
        "l = math.hypot(m**2 + n**2)\n",
        "print(\"the length of a right triangle is \", l)\n"
      ],
      "metadata": {
        "colab": {
          "base_uri": "https://localhost:8080/"
        },
        "id": "p8WpkaWeJI83",
        "outputId": "39c25c41-02ee-4cad-c149-bf4c9e27f340"
      },
      "execution_count": 31,
      "outputs": [
        {
          "output_type": "stream",
          "name": "stdout",
          "text": [
            "enter 1st number 3\n",
            "enter the 2nd number 4\n",
            "the length of a right triangle is  25.0\n"
          ]
        }
      ]
    },
    {
      "cell_type": "markdown",
      "source": [
        "Implement a function that calculates the greatest common divisor of two numbers using the `math.gcd()` function. Print\n",
        "the result"
      ],
      "metadata": {
        "id": "pOjnd_T1NSzY"
      }
    },
    {
      "cell_type": "code",
      "source": [
        "#the gcd of divisor\n",
        "import math\n",
        "x= int(input(\"Enter 1st number \"))\n",
        "y = int(input(\"Enter 2nd number \"))\n",
        "\n",
        "print(\"the number is \")\n",
        "num = math.gcd(x, y)\n",
        "print(num)"
      ],
      "metadata": {
        "colab": {
          "base_uri": "https://localhost:8080/"
        },
        "id": "XmBEFoSSNbdv",
        "outputId": "992c7036-7dd1-4c58-b7bf-c24b3ace81a6"
      },
      "execution_count": 42,
      "outputs": [
        {
          "output_type": "stream",
          "name": "stdout",
          "text": [
            "Enter 1st number 36\n",
            "Enter 2nd number 48\n",
            "the number is \n",
            "12\n"
          ]
        }
      ]
    },
    {
      "cell_type": "code",
      "source": [],
      "metadata": {
        "id": "n7iPoEigHgki"
      },
      "execution_count": null,
      "outputs": []
    },
    {
      "cell_type": "code",
      "source": [],
      "metadata": {
        "id": "AqVuZ2M4j0ZK"
      },
      "execution_count": null,
      "outputs": []
    },
    {
      "cell_type": "code",
      "source": [],
      "metadata": {
        "id": "_w-ja7ttqT9i"
      },
      "execution_count": null,
      "outputs": []
    }
  ]
}