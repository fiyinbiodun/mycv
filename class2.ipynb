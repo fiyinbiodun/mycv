{
  "nbformat": 4,
  "nbformat_minor": 0,
  "metadata": {
    "colab": {
      "provenance": [],
      "authorship_tag": "ABX9TyOyX0Mkhw/AoBSXuJ8L63zz",
      "include_colab_link": true
    },
    "kernelspec": {
      "name": "python3",
      "display_name": "Python 3"
    },
    "language_info": {
      "name": "python"
    }
  },
  "cells": [
    {
      "cell_type": "markdown",
      "metadata": {
        "id": "view-in-github",
        "colab_type": "text"
      },
      "source": [
        "<a href=\"https://colab.research.google.com/github/fiyinbiodun/mycv/blob/main/class2.ipynb\" target=\"_parent\"><img src=\"https://colab.research.google.com/assets/colab-badge.svg\" alt=\"Open In Colab\"/></a>"
      ]
    },
    {
      "cell_type": "code",
      "execution_count": 8,
      "metadata": {
        "colab": {
          "base_uri": "https://localhost:8080/"
        },
        "id": "Y7MfzuZFIX1k",
        "outputId": "01b0b92b-7bed-4a7d-ff05-dd0e74233785"
      },
      "outputs": [
        {
          "output_type": "stream",
          "name": "stdout",
          "text": [
            "65\n",
            "Other fruit\n"
          ]
        }
      ],
      "source": [
        "x = int(input())\n",
        "if(x < 10):\n",
        "  print(\"Apple\")\n",
        "elif((x > 5) & (x < 10)):\n",
        "  print(\"orange\")\n",
        "else:\n",
        "  print(\"Other fruit\")\n"
      ]
    },
    {
      "cell_type": "code",
      "source": [
        "x < 5"
      ],
      "metadata": {
        "colab": {
          "base_uri": "https://localhost:8080/"
        },
        "id": "VVKO0q2gOdU-",
        "outputId": "5ac6fbd1-e64c-441e-9a9d-4829692dc6b9"
      },
      "execution_count": 6,
      "outputs": [
        {
          "output_type": "execute_result",
          "data": {
            "text/plain": [
              "False"
            ]
          },
          "metadata": {},
          "execution_count": 6
        }
      ]
    },
    {
      "cell_type": "code",
      "source": [
        "a = 33\n",
        "b = 200\n",
        "print(b>a)\n",
        "\n",
        "if(b > a):\n",
        "  print(\"b is greater a\")\n",
        "elif(b == a):\n",
        "  print(\"b is equal to a\")\n",
        "else:\n",
        "  print(\"b is equal to a\")\n",
        "\n",
        "  #check if b is greater than a or b equal to a\n"
      ],
      "metadata": {
        "colab": {
          "base_uri": "https://localhost:8080/"
        },
        "id": "2O3cqanZV0RN",
        "outputId": "b1c9eb3c-8f0f-4ebf-cbab-f983eaff269a"
      },
      "execution_count": 37,
      "outputs": [
        {
          "output_type": "stream",
          "name": "stdout",
          "text": [
            "True\n",
            "b is greater a\n"
          ]
        }
      ]
    }
  ]
}